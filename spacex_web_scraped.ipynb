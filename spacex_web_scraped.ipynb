{
  "nbformat": 4,
  "nbformat_minor": 0,
  "metadata": {
    "colab": {
      "provenance": []
    },
    "kernelspec": {
      "name": "python3",
      "display_name": "Python 3"
    },
    "language_info": {
      "name": "python"
    }
  },
  "cells": [
    {
      "cell_type": "markdown",
      "source": [
        "# **Web scraping Falcon 9 and Falcon Heavy Launches Records from Wikipedia**"
      ],
      "metadata": {
        "id": "_fMqoPClZUFA"
      }
    },
    {
      "cell_type": "markdown",
      "source": [
        "Web scrap Falcon 9 launch records with BeautifulSoup:"
      ],
      "metadata": {
        "id": "DQX2Huz_Zxmj"
      }
    },
    {
      "cell_type": "markdown",
      "source": [
        "\n",
        "\n",
        "*   Extract a Falcon 9 launch records HTML table from Wikipedia\n",
        " \n",
        "*   Parse the table \n",
        "and convert it into a Pandas data frame\n",
        "\n",
        "\n"
      ],
      "metadata": {
        "id": "Q3jt3d6GaFcJ"
      }
    },
    {
      "cell_type": "code",
      "source": [
        "import sys\n",
        "from bs4 import BeautifulSoup\n",
        "import requests\n",
        "import unicodedata\n",
        "import csv\n",
        "# import openpyx1\n",
        "import pandas as pd\n",
        "import numpy as np"
      ],
      "metadata": {
        "id": "Lgm1JfAqaDUC"
      },
      "execution_count": 167,
      "outputs": []
    },
    {
      "cell_type": "markdown",
      "source": [
        "a few helper functions to help us obtain data through scraping"
      ],
      "metadata": {
        "id": "LX7d2sZQdSWP"
      }
    },
    {
      "cell_type": "code",
      "source": [
        "def date_time(table_cells):\n",
        "    \"\"\"\n",
        "    This function returns the data and time from the HTML  table cell\n",
        "    Input: the  element of a table data cell extracts extra row\n",
        "    \"\"\"\n",
        "    return [data_time.strip() for data_time in list(table_cells.strings)][0:2]\n",
        "\n",
        "def landing_status(table_cells):\n",
        "    \"\"\"\n",
        "    This function returns the landing status from the HTML table cell \n",
        "    Input: the  element of a table data cell extracts extra row\n",
        "    \"\"\"\n",
        "    out=[i for i in table_cells.strings][0]\n",
        "    return out\n",
        "\n",
        "\n",
        "def get_mass(table_cells):\n",
        "    mass=unicodedata.normalize(\"NFKD\", table_cells.text).strip()\n",
        "    if mass:\n",
        "        mass.find(\"kg\")\n",
        "        new_mass=mass[0:mass.find(\"kg\")+2]\n",
        "    else:\n",
        "        new_mass=0\n",
        "    return new_mass\n",
        "    \n",
        "def extract_column_from_header(row):\n",
        "    \"\"\"\n",
        "    This function returns the landing status from the HTML table cell \n",
        "    Input: the  element of a table data cell extracts extra row\n",
        "    \"\"\"\n",
        "    if (row.br):\n",
        "        row.br.extract()\n",
        "    if row.a:\n",
        "        row.a.extract()\n",
        "    if row.sup:\n",
        "        row.sup.extract()\n",
        "        \n",
        "    colunm_name = ' '.join(row.contents)\n",
        "    # Filter the digit and empty names\n",
        "    if not(colunm_name.strip().isdigit()):\n",
        "        colunm_name = colunm_name.strip()\n",
        "        return colunm_name   "
      ],
      "metadata": {
        "id": "SSj3EOp0rRAZ"
      },
      "execution_count": 168,
      "outputs": []
    },
    {
      "cell_type": "code",
      "source": [
        "static_url = \"https://en.wikipedia.org/w/index.php?title=List_of_Falcon_9_and_Falcon_Heavy_launches&oldid=1027686922\""
      ],
      "metadata": {
        "id": "4TPBsQ0Abqc7"
      },
      "execution_count": 169,
      "outputs": []
    },
    {
      "cell_type": "markdown",
      "source": [
        "## Creating a request for the Falcon9 Launch Wiki page from its URL\n",
        "\n",
        "\n"
      ],
      "metadata": {
        "id": "qAHsj-J0aEPC"
      }
    },
    {
      "cell_type": "code",
      "source": [
        "response = requests.get(static_url).text"
      ],
      "metadata": {
        "id": "Db494JricJt-"
      },
      "execution_count": 170,
      "outputs": []
    },
    {
      "cell_type": "markdown",
      "source": [
        "Creating a BeautifulSoup object from the HTML response"
      ],
      "metadata": {
        "id": "_PGSo0ntdStY"
      }
    },
    {
      "cell_type": "code",
      "source": [
        "soup = BeautifulSoup(response, 'html.parser')"
      ],
      "metadata": {
        "id": "xEFGxpSvcuHU"
      },
      "execution_count": 171,
      "outputs": []
    },
    {
      "cell_type": "markdown",
      "source": [
        "Printing the page title to verify if the BeautifulSoup object was created properly"
      ],
      "metadata": {
        "id": "VsFrJX8Edrxj"
      }
    },
    {
      "cell_type": "code",
      "source": [
        "print(soup.title)"
      ],
      "metadata": {
        "colab": {
          "base_uri": "https://localhost:8080/"
        },
        "id": "c4PapfozdmdO",
        "outputId": "d5e80e95-dbd2-4ddd-806a-a5a8f9d95be9"
      },
      "execution_count": 172,
      "outputs": [
        {
          "output_type": "stream",
          "name": "stdout",
          "text": [
            "<title>List of Falcon 9 and Falcon Heavy launches - Wikipedia</title>\n"
          ]
        }
      ]
    },
    {
      "cell_type": "markdown",
      "source": [
        " Extracting all column/variable names from the HTML table header"
      ],
      "metadata": {
        "id": "PA1ik8xMeJvE"
      }
    },
    {
      "cell_type": "code",
      "source": [
        "html_tables = soup.find_all(\"table\")"
      ],
      "metadata": {
        "id": "ndITCHgMd8I5"
      },
      "execution_count": 173,
      "outputs": []
    },
    {
      "cell_type": "markdown",
      "source": [
        "Extract column name one by one"
      ],
      "metadata": {
        "id": "N7G9LwMZlVNV"
      }
    },
    {
      "cell_type": "code",
      "source": [
        "column_names = []\n",
        "temp = soup.find_all('th')\n",
        "for x in range(len(temp)):\n",
        "  try:\n",
        "    name = extract_column_from_header(temp[x])\n",
        "    if (name is not None and len(name) > 0):\n",
        "      column_names.append(name)\n",
        "  except:\n",
        "   pass"
      ],
      "metadata": {
        "id": "vvn9PurzlLmt"
      },
      "execution_count": 174,
      "outputs": []
    },
    {
      "cell_type": "markdown",
      "source": [
        "Creating a data frame by parsing the launch "
      ],
      "metadata": {
        "id": "bXKbYSIIfE_v"
      }
    },
    {
      "cell_type": "code",
      "source": [
        "launch_dict= dict.fromkeys(column_names)\n",
        "\n",
        "# Remove an irrelvant column\n",
        "# del launch_dict['Date and time ( )']\n",
        "\n",
        "# Let's initial the launch_dict with each value to be an empty list\n",
        "launch_dict['Flight No.'] = []\n",
        "launch_dict['Launch site'] = []\n",
        "launch_dict['Payload'] = []\n",
        "launch_dict['Payload mass'] = []\n",
        "launch_dict['Orbit'] = []\n",
        "launch_dict['Customer'] = []\n",
        "launch_dict['Launch outcome'] = []\n",
        "# Added some new columns\n",
        "launch_dict['Date']=[]\n",
        "launch_dict['Time']=[]"
      ],
      "metadata": {
        "id": "pDLnzE4gge-J"
      },
      "execution_count": 175,
      "outputs": []
    },
    {
      "cell_type": "markdown",
      "source": [
        "fill up the launch_dict with launch records extracted from table rows."
      ],
      "metadata": {
        "id": "0DrVceZDdwvp"
      }
    },
    {
      "cell_type": "code",
      "source": [
        "extracted_row = 0\n",
        "#Extract each table \n",
        "for table_number,table in enumerate(soup.find_all('table',\"wikitable plainrowheaders collapsible\")):\n",
        "   # get table row \n",
        "    for rows in table.find_all(\"tr\"):\n",
        "        #check to see if first table heading is as number corresponding to launch a number \n",
        "        if rows.th:\n",
        "            if rows.th.string:\n",
        "                flight_number=rows.th.string.strip()\n",
        "                flag=flight_number.isdigit()\n",
        "        else:\n",
        "            flag=False\n",
        "        #get table element \n",
        "        row=rows.find_all('td')\n",
        "        #if it is number save cells in a dictonary \n",
        "        if flag:\n",
        "            extracted_row += 1\n",
        "              # Flight Number value\n",
        "      \n",
        "            launch_dict[\"Flight No.\"].append(flight_number)\n",
        "\n",
        "            datatimelist=date_time(row[0])\n",
        "            # Date value\n",
        "        \n",
        "            date = datatimelist[0].strip(',')\n",
        "            launch_dict[\"Date\"].append(date)\n",
        "    \n",
        "            \n",
        "            # Time value\n",
        "        \n",
        "            time = datatimelist[1]\n",
        "            launch_dict[\"Time\"].append(time)\n",
        "             # Booster version\n",
        "\n",
        "            # bv=booster_version(row[1])\n",
        "            # if not(bv):\n",
        "            #     bv=row[1].a.string\n",
        "            # launch_dict[\"Version Booster\"].append(bv)\n",
        " \n",
        "            \n",
        "            # Launch Site\n",
        "       \n",
        "            launch_site = row[2].a.string\n",
        "            launch_dict[\"Launch site\"].append(launch_site)\n",
        "            # Payload\n",
        "  \n",
        "            payload = row[3].a.string\n",
        "            launch_dict[\"Payload\"].append(payload)\n",
        "\n",
        "            \n",
        "            # Payload Mass\n",
        "         \n",
        "            payload_mass = get_mass(row[4])\n",
        "            launch_dict[\"Payload mass\"].append(payload_mass)\n",
        "  \n",
        "            \n",
        "            # Orbit\n",
        "\n",
        "            orbit = row[5].a.string\n",
        "            launch_dict[\"Orbit\"].append(orbit)\n",
        "            \n",
        "            # Customer\n",
        "      \n",
        "            customer = row[6].a.string\n",
        "            launch_dict[\"Customer\"].append(customer)\n",
        "\n",
        "            # Launch outcome\n",
        "       \n",
        "            launch_outcome = list(row[7].strings)[0]\n",
        "            launch_dict[\"Launch outcome\"].append(launch_outcome)\n"
      ],
      "metadata": {
        "colab": {
          "base_uri": "https://localhost:8080/",
          "height": 235
        },
        "id": "wOgMeRgaeqrC",
        "outputId": "de6969d2-0682-4348-8eaa-cc4329056de8"
      },
      "execution_count": 177,
      "outputs": [
        {
          "output_type": "error",
          "ename": "AttributeError",
          "evalue": "ignored",
          "traceback": [
            "\u001b[0;31m---------------------------------------------------------------------------\u001b[0m",
            "\u001b[0;31mAttributeError\u001b[0m                            Traceback (most recent call last)",
            "\u001b[0;32m<ipython-input-177-7d55f06bad80>\u001b[0m in \u001b[0;36m<module>\u001b[0;34m\u001b[0m\n\u001b[1;32m     62\u001b[0m             \u001b[0;31m# Customer\u001b[0m\u001b[0;34m\u001b[0m\u001b[0;34m\u001b[0m\u001b[0m\n\u001b[1;32m     63\u001b[0m \u001b[0;34m\u001b[0m\u001b[0m\n\u001b[0;32m---> 64\u001b[0;31m             \u001b[0mcustomer\u001b[0m \u001b[0;34m=\u001b[0m \u001b[0mrow\u001b[0m\u001b[0;34m[\u001b[0m\u001b[0;36m6\u001b[0m\u001b[0;34m]\u001b[0m\u001b[0;34m.\u001b[0m\u001b[0ma\u001b[0m\u001b[0;34m.\u001b[0m\u001b[0mstring\u001b[0m\u001b[0;34m\u001b[0m\u001b[0;34m\u001b[0m\u001b[0m\n\u001b[0m\u001b[1;32m     65\u001b[0m             \u001b[0mlaunch_dict\u001b[0m\u001b[0;34m[\u001b[0m\u001b[0;34m\"Customer\"\u001b[0m\u001b[0;34m]\u001b[0m\u001b[0;34m.\u001b[0m\u001b[0mappend\u001b[0m\u001b[0;34m(\u001b[0m\u001b[0mcustomer\u001b[0m\u001b[0;34m)\u001b[0m\u001b[0;34m\u001b[0m\u001b[0;34m\u001b[0m\u001b[0m\n\u001b[1;32m     66\u001b[0m \u001b[0;34m\u001b[0m\u001b[0m\n",
            "\u001b[0;31mAttributeError\u001b[0m: 'NoneType' object has no attribute 'string'"
          ]
        }
      ]
    },
    {
      "cell_type": "markdown",
      "source": [
        "create a dataframe"
      ],
      "metadata": {
        "id": "yErCPFiaeBYQ"
      }
    },
    {
      "cell_type": "code",
      "source": [
        "headings = []\n",
        "for key,values in dict(launch_dict).items():\n",
        "    if key not in headings:\n",
        "        headings.append(key)\n",
        "    if values is None:\n",
        "        del launch_dict[key]\n",
        "\n",
        "def pad_dict_list(dict_list, padel):\n",
        "    lmax = 0\n",
        "    for lname in dict_list.keys():\n",
        "        lmax = max(lmax, len(dict_list[lname]))\n",
        "    for lname in dict_list.keys():\n",
        "        ll = len(dict_list[lname])\n",
        "        if  ll < lmax:\n",
        "            dict_list[lname] += [padel] * (lmax - ll)\n",
        "    return dict_list\n",
        "\n",
        "pad_dict_list(launch_dict,0)\n",
        "\n",
        "df = pd.DataFrame.from_dict(launch_dict)\n",
        "df.head()\n"
      ],
      "metadata": {
        "id": "OjoZWWlBeuN8",
        "colab": {
          "base_uri": "https://localhost:8080/",
          "height": 206
        },
        "outputId": "0529304d-d704-463b-d40b-5547a407926d"
      },
      "execution_count": 178,
      "outputs": [
        {
          "output_type": "execute_result",
          "data": {
            "text/plain": [
              "  Flight No. Launch site                               Payload Payload mass  \\\n",
              "0          1       CCAFS  Dragon Spacecraft Qualification Unit            0   \n",
              "1          2       CCAFS                                Dragon            0   \n",
              "2          3       CCAFS                                Dragon       525 kg   \n",
              "3          4       CCAFS                          SpaceX CRS-1     4,700 kg   \n",
              "4          5       CCAFS                          SpaceX CRS-2     4,877 kg   \n",
              "\n",
              "  Orbit Customer Launch outcome             Date   Time  \n",
              "0   LEO   SpaceX      Success\\n      4 June 2010  18:45  \n",
              "1   LEO     NASA        Success  8 December 2010  15:43  \n",
              "2   LEO     NASA        Success      22 May 2012  07:44  \n",
              "3   LEO     NASA      Success\\n   8 October 2012  00:35  \n",
              "4   LEO     NASA      Success\\n     1 March 2013  15:10  "
            ],
            "text/html": [
              "\n",
              "  <div id=\"df-8176336a-f1d4-4d08-a315-3a2a0ecf42ca\">\n",
              "    <div class=\"colab-df-container\">\n",
              "      <div>\n",
              "<style scoped>\n",
              "    .dataframe tbody tr th:only-of-type {\n",
              "        vertical-align: middle;\n",
              "    }\n",
              "\n",
              "    .dataframe tbody tr th {\n",
              "        vertical-align: top;\n",
              "    }\n",
              "\n",
              "    .dataframe thead th {\n",
              "        text-align: right;\n",
              "    }\n",
              "</style>\n",
              "<table border=\"1\" class=\"dataframe\">\n",
              "  <thead>\n",
              "    <tr style=\"text-align: right;\">\n",
              "      <th></th>\n",
              "      <th>Flight No.</th>\n",
              "      <th>Launch site</th>\n",
              "      <th>Payload</th>\n",
              "      <th>Payload mass</th>\n",
              "      <th>Orbit</th>\n",
              "      <th>Customer</th>\n",
              "      <th>Launch outcome</th>\n",
              "      <th>Date</th>\n",
              "      <th>Time</th>\n",
              "    </tr>\n",
              "  </thead>\n",
              "  <tbody>\n",
              "    <tr>\n",
              "      <th>0</th>\n",
              "      <td>1</td>\n",
              "      <td>CCAFS</td>\n",
              "      <td>Dragon Spacecraft Qualification Unit</td>\n",
              "      <td>0</td>\n",
              "      <td>LEO</td>\n",
              "      <td>SpaceX</td>\n",
              "      <td>Success\\n</td>\n",
              "      <td>4 June 2010</td>\n",
              "      <td>18:45</td>\n",
              "    </tr>\n",
              "    <tr>\n",
              "      <th>1</th>\n",
              "      <td>2</td>\n",
              "      <td>CCAFS</td>\n",
              "      <td>Dragon</td>\n",
              "      <td>0</td>\n",
              "      <td>LEO</td>\n",
              "      <td>NASA</td>\n",
              "      <td>Success</td>\n",
              "      <td>8 December 2010</td>\n",
              "      <td>15:43</td>\n",
              "    </tr>\n",
              "    <tr>\n",
              "      <th>2</th>\n",
              "      <td>3</td>\n",
              "      <td>CCAFS</td>\n",
              "      <td>Dragon</td>\n",
              "      <td>525 kg</td>\n",
              "      <td>LEO</td>\n",
              "      <td>NASA</td>\n",
              "      <td>Success</td>\n",
              "      <td>22 May 2012</td>\n",
              "      <td>07:44</td>\n",
              "    </tr>\n",
              "    <tr>\n",
              "      <th>3</th>\n",
              "      <td>4</td>\n",
              "      <td>CCAFS</td>\n",
              "      <td>SpaceX CRS-1</td>\n",
              "      <td>4,700 kg</td>\n",
              "      <td>LEO</td>\n",
              "      <td>NASA</td>\n",
              "      <td>Success\\n</td>\n",
              "      <td>8 October 2012</td>\n",
              "      <td>00:35</td>\n",
              "    </tr>\n",
              "    <tr>\n",
              "      <th>4</th>\n",
              "      <td>5</td>\n",
              "      <td>CCAFS</td>\n",
              "      <td>SpaceX CRS-2</td>\n",
              "      <td>4,877 kg</td>\n",
              "      <td>LEO</td>\n",
              "      <td>NASA</td>\n",
              "      <td>Success\\n</td>\n",
              "      <td>1 March 2013</td>\n",
              "      <td>15:10</td>\n",
              "    </tr>\n",
              "  </tbody>\n",
              "</table>\n",
              "</div>\n",
              "      <button class=\"colab-df-convert\" onclick=\"convertToInteractive('df-8176336a-f1d4-4d08-a315-3a2a0ecf42ca')\"\n",
              "              title=\"Convert this dataframe to an interactive table.\"\n",
              "              style=\"display:none;\">\n",
              "        \n",
              "  <svg xmlns=\"http://www.w3.org/2000/svg\" height=\"24px\"viewBox=\"0 0 24 24\"\n",
              "       width=\"24px\">\n",
              "    <path d=\"M0 0h24v24H0V0z\" fill=\"none\"/>\n",
              "    <path d=\"M18.56 5.44l.94 2.06.94-2.06 2.06-.94-2.06-.94-.94-2.06-.94 2.06-2.06.94zm-11 1L8.5 8.5l.94-2.06 2.06-.94-2.06-.94L8.5 2.5l-.94 2.06-2.06.94zm10 10l.94 2.06.94-2.06 2.06-.94-2.06-.94-.94-2.06-.94 2.06-2.06.94z\"/><path d=\"M17.41 7.96l-1.37-1.37c-.4-.4-.92-.59-1.43-.59-.52 0-1.04.2-1.43.59L10.3 9.45l-7.72 7.72c-.78.78-.78 2.05 0 2.83L4 21.41c.39.39.9.59 1.41.59.51 0 1.02-.2 1.41-.59l7.78-7.78 2.81-2.81c.8-.78.8-2.07 0-2.86zM5.41 20L4 18.59l7.72-7.72 1.47 1.35L5.41 20z\"/>\n",
              "  </svg>\n",
              "      </button>\n",
              "      \n",
              "  <style>\n",
              "    .colab-df-container {\n",
              "      display:flex;\n",
              "      flex-wrap:wrap;\n",
              "      gap: 12px;\n",
              "    }\n",
              "\n",
              "    .colab-df-convert {\n",
              "      background-color: #E8F0FE;\n",
              "      border: none;\n",
              "      border-radius: 50%;\n",
              "      cursor: pointer;\n",
              "      display: none;\n",
              "      fill: #1967D2;\n",
              "      height: 32px;\n",
              "      padding: 0 0 0 0;\n",
              "      width: 32px;\n",
              "    }\n",
              "\n",
              "    .colab-df-convert:hover {\n",
              "      background-color: #E2EBFA;\n",
              "      box-shadow: 0px 1px 2px rgba(60, 64, 67, 0.3), 0px 1px 3px 1px rgba(60, 64, 67, 0.15);\n",
              "      fill: #174EA6;\n",
              "    }\n",
              "\n",
              "    [theme=dark] .colab-df-convert {\n",
              "      background-color: #3B4455;\n",
              "      fill: #D2E3FC;\n",
              "    }\n",
              "\n",
              "    [theme=dark] .colab-df-convert:hover {\n",
              "      background-color: #434B5C;\n",
              "      box-shadow: 0px 1px 3px 1px rgba(0, 0, 0, 0.15);\n",
              "      filter: drop-shadow(0px 1px 2px rgba(0, 0, 0, 0.3));\n",
              "      fill: #FFFFFF;\n",
              "    }\n",
              "  </style>\n",
              "\n",
              "      <script>\n",
              "        const buttonEl =\n",
              "          document.querySelector('#df-8176336a-f1d4-4d08-a315-3a2a0ecf42ca button.colab-df-convert');\n",
              "        buttonEl.style.display =\n",
              "          google.colab.kernel.accessAllowed ? 'block' : 'none';\n",
              "\n",
              "        async function convertToInteractive(key) {\n",
              "          const element = document.querySelector('#df-8176336a-f1d4-4d08-a315-3a2a0ecf42ca');\n",
              "          const dataTable =\n",
              "            await google.colab.kernel.invokeFunction('convertToInteractive',\n",
              "                                                     [key], {});\n",
              "          if (!dataTable) return;\n",
              "\n",
              "          const docLinkHtml = 'Like what you see? Visit the ' +\n",
              "            '<a target=\"_blank\" href=https://colab.research.google.com/notebooks/data_table.ipynb>data table notebook</a>'\n",
              "            + ' to learn more about interactive tables.';\n",
              "          element.innerHTML = '';\n",
              "          dataTable['output_type'] = 'display_data';\n",
              "          await google.colab.output.renderOutput(dataTable, element);\n",
              "          const docLink = document.createElement('div');\n",
              "          docLink.innerHTML = docLinkHtml;\n",
              "          element.appendChild(docLink);\n",
              "        }\n",
              "      </script>\n",
              "    </div>\n",
              "  </div>\n",
              "  "
            ]
          },
          "metadata": {},
          "execution_count": 178
        }
      ]
    },
    {
      "cell_type": "code",
      "source": [
        "df.isnull().sum()"
      ],
      "metadata": {
        "colab": {
          "base_uri": "https://localhost:8080/"
        },
        "id": "JI-BFQF5Cvys",
        "outputId": "0ad3a4c8-1ac1-4cba-bfac-8b44b54e2cbd"
      },
      "execution_count": 179,
      "outputs": [
        {
          "output_type": "execute_result",
          "data": {
            "text/plain": [
              "Flight No.        0\n",
              "Launch site       0\n",
              "Payload           0\n",
              "Payload mass      0\n",
              "Orbit             0\n",
              "Customer          2\n",
              "Launch outcome    0\n",
              "Date              0\n",
              "Time              0\n",
              "dtype: int64"
            ]
          },
          "metadata": {},
          "execution_count": 179
        }
      ]
    },
    {
      "cell_type": "code",
      "source": [
        "df['Customer']=df['Customer'].replace(np.nan, \"Failure\")"
      ],
      "metadata": {
        "id": "wDsH7JicC3Ps"
      },
      "execution_count": 180,
      "outputs": []
    },
    {
      "cell_type": "code",
      "source": [
        "df.isnull().sum()"
      ],
      "metadata": {
        "colab": {
          "base_uri": "https://localhost:8080/"
        },
        "id": "ihfBmrKnI5p-",
        "outputId": "b52ea333-0c4f-4f0f-cd26-520267d2932a"
      },
      "execution_count": 181,
      "outputs": [
        {
          "output_type": "execute_result",
          "data": {
            "text/plain": [
              "Flight No.        0\n",
              "Launch site       0\n",
              "Payload           0\n",
              "Payload mass      0\n",
              "Orbit             0\n",
              "Customer          0\n",
              "Launch outcome    0\n",
              "Date              0\n",
              "Time              0\n",
              "dtype: int64"
            ]
          },
          "metadata": {},
          "execution_count": 181
        }
      ]
    },
    {
      "cell_type": "code",
      "source": [
        "df.to_csv('spacex_web_scraped.csv', index=False)"
      ],
      "metadata": {
        "id": "tVx3DWe9nvDl"
      },
      "execution_count": 182,
      "outputs": []
    }
  ]
}