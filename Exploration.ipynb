{
  "nbformat": 4,
  "nbformat_minor": 0,
  "metadata": {
    "colab": {
      "provenance": []
    },
    "kernelspec": {
      "name": "python3",
      "display_name": "Python 3"
    },
    "language_info": {
      "name": "python"
    }
  },
  "cells": [
    {
      "cell_type": "code",
      "execution_count": 104,
      "metadata": {
        "id": "94HkzoYbxeqt"
      },
      "outputs": [],
      "source": [
        "import pandas as pd\n",
        "import numpy as np\n",
        "import matplotlib.pyplot as plt\n",
        "import seaborn as sns\n",
        "plt.style.use('ggplot')"
      ]
    },
    {
      "cell_type": "markdown",
      "source": [
        "Read the csv file"
      ],
      "metadata": {
        "id": "Oi_f3l5telto"
      }
    },
    {
      "cell_type": "code",
      "source": [
        "path = \"/content/drive/MyDrive/web_scraping/spacex_web_scraped.csv\"\n",
        "df = pd.read_csv(path)\n",
        "print(df.head(5))\n",
        "print(df.columns)\n",
        "df.shape"
      ],
      "metadata": {
        "colab": {
          "base_uri": "https://localhost:8080/"
        },
        "id": "6z9_9kcCx6Pg",
        "outputId": "a433bfd1-ad0e-4122-f3fb-daa6e3abf4b3"
      },
      "execution_count": 105,
      "outputs": [
        {
          "output_type": "stream",
          "name": "stdout",
          "text": [
            "   Flight No. Launch site                               Payload Payload mass  \\\n",
            "0           1       CCAFS  Dragon Spacecraft Qualification Unit            0   \n",
            "1           2       CCAFS                                Dragon            0   \n",
            "2           3       CCAFS                                Dragon       525 kg   \n",
            "3           4       CCAFS                          SpaceX CRS-1     4,700 kg   \n",
            "4           5       CCAFS                          SpaceX CRS-2     4,877 kg   \n",
            "\n",
            "  Orbit Customer Launch outcome             Date   Time  \n",
            "0   LEO   SpaceX      Success\\n      4 June 2010  18:45  \n",
            "1   LEO     NASA        Success  8 December 2010  15:43  \n",
            "2   LEO     NASA        Success      22 May 2012  07:44  \n",
            "3   LEO     NASA      Success\\n   8 October 2012  00:35  \n",
            "4   LEO     NASA      Success\\n     1 March 2013  15:10  \n",
            "Index(['Flight No.', 'Launch site', 'Payload', 'Payload mass', 'Orbit',\n",
            "       'Customer', 'Launch outcome', 'Date', 'Time'],\n",
            "      dtype='object')\n"
          ]
        },
        {
          "output_type": "execute_result",
          "data": {
            "text/plain": [
              "(212, 9)"
            ]
          },
          "metadata": {},
          "execution_count": 105
        }
      ]
    },
    {
      "cell_type": "code",
      "source": [
        "df.describe()"
      ],
      "metadata": {
        "id": "KUgR1xtLzN55",
        "colab": {
          "base_uri": "https://localhost:8080/",
          "height": 300
        },
        "outputId": "5b56da22-70e4-4ab3-d5ca-9f4019a7fdb8"
      },
      "execution_count": 106,
      "outputs": [
        {
          "output_type": "execute_result",
          "data": {
            "text/plain": [
              "       Flight No.\n",
              "count  212.000000\n",
              "mean    53.500000\n",
              "std     30.670624\n",
              "min      1.000000\n",
              "25%     27.000000\n",
              "50%     53.500000\n",
              "75%     80.000000\n",
              "max    106.000000"
            ],
            "text/html": [
              "\n",
              "  <div id=\"df-a3afa97f-47a4-4714-8386-022a53de95dd\">\n",
              "    <div class=\"colab-df-container\">\n",
              "      <div>\n",
              "<style scoped>\n",
              "    .dataframe tbody tr th:only-of-type {\n",
              "        vertical-align: middle;\n",
              "    }\n",
              "\n",
              "    .dataframe tbody tr th {\n",
              "        vertical-align: top;\n",
              "    }\n",
              "\n",
              "    .dataframe thead th {\n",
              "        text-align: right;\n",
              "    }\n",
              "</style>\n",
              "<table border=\"1\" class=\"dataframe\">\n",
              "  <thead>\n",
              "    <tr style=\"text-align: right;\">\n",
              "      <th></th>\n",
              "      <th>Flight No.</th>\n",
              "    </tr>\n",
              "  </thead>\n",
              "  <tbody>\n",
              "    <tr>\n",
              "      <th>count</th>\n",
              "      <td>212.000000</td>\n",
              "    </tr>\n",
              "    <tr>\n",
              "      <th>mean</th>\n",
              "      <td>53.500000</td>\n",
              "    </tr>\n",
              "    <tr>\n",
              "      <th>std</th>\n",
              "      <td>30.670624</td>\n",
              "    </tr>\n",
              "    <tr>\n",
              "      <th>min</th>\n",
              "      <td>1.000000</td>\n",
              "    </tr>\n",
              "    <tr>\n",
              "      <th>25%</th>\n",
              "      <td>27.000000</td>\n",
              "    </tr>\n",
              "    <tr>\n",
              "      <th>50%</th>\n",
              "      <td>53.500000</td>\n",
              "    </tr>\n",
              "    <tr>\n",
              "      <th>75%</th>\n",
              "      <td>80.000000</td>\n",
              "    </tr>\n",
              "    <tr>\n",
              "      <th>max</th>\n",
              "      <td>106.000000</td>\n",
              "    </tr>\n",
              "  </tbody>\n",
              "</table>\n",
              "</div>\n",
              "      <button class=\"colab-df-convert\" onclick=\"convertToInteractive('df-a3afa97f-47a4-4714-8386-022a53de95dd')\"\n",
              "              title=\"Convert this dataframe to an interactive table.\"\n",
              "              style=\"display:none;\">\n",
              "        \n",
              "  <svg xmlns=\"http://www.w3.org/2000/svg\" height=\"24px\"viewBox=\"0 0 24 24\"\n",
              "       width=\"24px\">\n",
              "    <path d=\"M0 0h24v24H0V0z\" fill=\"none\"/>\n",
              "    <path d=\"M18.56 5.44l.94 2.06.94-2.06 2.06-.94-2.06-.94-.94-2.06-.94 2.06-2.06.94zm-11 1L8.5 8.5l.94-2.06 2.06-.94-2.06-.94L8.5 2.5l-.94 2.06-2.06.94zm10 10l.94 2.06.94-2.06 2.06-.94-2.06-.94-.94-2.06-.94 2.06-2.06.94z\"/><path d=\"M17.41 7.96l-1.37-1.37c-.4-.4-.92-.59-1.43-.59-.52 0-1.04.2-1.43.59L10.3 9.45l-7.72 7.72c-.78.78-.78 2.05 0 2.83L4 21.41c.39.39.9.59 1.41.59.51 0 1.02-.2 1.41-.59l7.78-7.78 2.81-2.81c.8-.78.8-2.07 0-2.86zM5.41 20L4 18.59l7.72-7.72 1.47 1.35L5.41 20z\"/>\n",
              "  </svg>\n",
              "      </button>\n",
              "      \n",
              "  <style>\n",
              "    .colab-df-container {\n",
              "      display:flex;\n",
              "      flex-wrap:wrap;\n",
              "      gap: 12px;\n",
              "    }\n",
              "\n",
              "    .colab-df-convert {\n",
              "      background-color: #E8F0FE;\n",
              "      border: none;\n",
              "      border-radius: 50%;\n",
              "      cursor: pointer;\n",
              "      display: none;\n",
              "      fill: #1967D2;\n",
              "      height: 32px;\n",
              "      padding: 0 0 0 0;\n",
              "      width: 32px;\n",
              "    }\n",
              "\n",
              "    .colab-df-convert:hover {\n",
              "      background-color: #E2EBFA;\n",
              "      box-shadow: 0px 1px 2px rgba(60, 64, 67, 0.3), 0px 1px 3px 1px rgba(60, 64, 67, 0.15);\n",
              "      fill: #174EA6;\n",
              "    }\n",
              "\n",
              "    [theme=dark] .colab-df-convert {\n",
              "      background-color: #3B4455;\n",
              "      fill: #D2E3FC;\n",
              "    }\n",
              "\n",
              "    [theme=dark] .colab-df-convert:hover {\n",
              "      background-color: #434B5C;\n",
              "      box-shadow: 0px 1px 3px 1px rgba(0, 0, 0, 0.15);\n",
              "      filter: drop-shadow(0px 1px 2px rgba(0, 0, 0, 0.3));\n",
              "      fill: #FFFFFF;\n",
              "    }\n",
              "  </style>\n",
              "\n",
              "      <script>\n",
              "        const buttonEl =\n",
              "          document.querySelector('#df-a3afa97f-47a4-4714-8386-022a53de95dd button.colab-df-convert');\n",
              "        buttonEl.style.display =\n",
              "          google.colab.kernel.accessAllowed ? 'block' : 'none';\n",
              "\n",
              "        async function convertToInteractive(key) {\n",
              "          const element = document.querySelector('#df-a3afa97f-47a4-4714-8386-022a53de95dd');\n",
              "          const dataTable =\n",
              "            await google.colab.kernel.invokeFunction('convertToInteractive',\n",
              "                                                     [key], {});\n",
              "          if (!dataTable) return;\n",
              "\n",
              "          const docLinkHtml = 'Like what you see? Visit the ' +\n",
              "            '<a target=\"_blank\" href=https://colab.research.google.com/notebooks/data_table.ipynb>data table notebook</a>'\n",
              "            + ' to learn more about interactive tables.';\n",
              "          element.innerHTML = '';\n",
              "          dataTable['output_type'] = 'display_data';\n",
              "          await google.colab.output.renderOutput(dataTable, element);\n",
              "          const docLink = document.createElement('div');\n",
              "          docLink.innerHTML = docLinkHtml;\n",
              "          element.appendChild(docLink);\n",
              "        }\n",
              "      </script>\n",
              "    </div>\n",
              "  </div>\n",
              "  "
            ]
          },
          "metadata": {},
          "execution_count": 106
        }
      ]
    },
    {
      "cell_type": "markdown",
      "source": [
        "checking missing any data "
      ],
      "metadata": {
        "id": "_QsKP8Ame0MN"
      }
    },
    {
      "cell_type": "code",
      "source": [
        "df.isna().sum()"
      ],
      "metadata": {
        "colab": {
          "base_uri": "https://localhost:8080/"
        },
        "id": "QffKnIVN60UR",
        "outputId": "4ee3c979-d2bc-4d66-d2c4-4438248b9d8e"
      },
      "execution_count": 107,
      "outputs": [
        {
          "output_type": "execute_result",
          "data": {
            "text/plain": [
              "Flight No.        0\n",
              "Launch site       0\n",
              "Payload           0\n",
              "Payload mass      0\n",
              "Orbit             0\n",
              "Customer          0\n",
              "Launch outcome    0\n",
              "Date              0\n",
              "Time              0\n",
              "dtype: int64"
            ]
          },
          "metadata": {},
          "execution_count": 107
        }
      ]
    },
    {
      "cell_type": "markdown",
      "source": [
        "Dublicate the dataframe"
      ],
      "metadata": {
        "id": "lJvFrYtce8fr"
      }
    },
    {
      "cell_type": "code",
      "source": [
        "df = df.loc[~df.duplicated(subset=['Flight No.', 'Launch site', 'Payload', 'Payload mass', 'Orbit',\n",
        "       'Customer', 'Launch outcome', 'Date', 'Time'])].reset_index(drop=True)"
      ],
      "metadata": {
        "id": "PDbMXzGE68Em"
      },
      "execution_count": 108,
      "outputs": []
    },
    {
      "cell_type": "markdown",
      "source": [
        "Count the frequency of Launch site data category"
      ],
      "metadata": {
        "id": "zjjJG-WbfO8Q"
      }
    },
    {
      "cell_type": "code",
      "source": [
        "df[\"Launch site\"].value_counts()"
      ],
      "metadata": {
        "colab": {
          "base_uri": "https://localhost:8080/"
        },
        "id": "CSBslWNl7eUu",
        "outputId": "6f47a4bd-0d58-4116-8159-69a9bde882f9"
      },
      "execution_count": 109,
      "outputs": [
        {
          "output_type": "execute_result",
          "data": {
            "text/plain": [
              "CCAFS             75\n",
              "KSC               47\n",
              "Cape Canaveral    38\n",
              "VAFB              32\n",
              "CCSFS              6\n",
              "Name: Launch site, dtype: int64"
            ]
          },
          "metadata": {},
          "execution_count": 109
        }
      ]
    },
    {
      "cell_type": "markdown",
      "source": [
        "Create a bar chart of the data categories and their counts"
      ],
      "metadata": {
        "id": "6Oi-_WElfeB7"
      }
    },
    {
      "cell_type": "code",
      "source": [
        "launch_outcome_count = df['Launch outcome'].value_counts()\n",
        "plt.bar(launch_site_count.index, launch_site_count.values)\n",
        "plt.title('Count of Launch Site')\n",
        "plt.xlabel('Launch Site')\n",
        "plt.ylabel('Count')\n",
        "plt.show()"
      ],
      "metadata": {
        "colab": {
          "base_uri": "https://localhost:8080/",
          "height": 299
        },
        "id": "Zno5uKyUD-Aj",
        "outputId": "75a54768-2c9f-4772-b042-58f5024e4ea1"
      },
      "execution_count": 110,
      "outputs": [
        {
          "output_type": "display_data",
          "data": {
            "text/plain": [
              "<Figure size 432x288 with 1 Axes>"
            ],
            "image/png": "[encoded data removed]"
          },
          "metadata": {}
        }
      ]
    },
    {
      "cell_type": "markdown",
      "source": [
        "Create a pie chart of the customer data categories and their counts"
      ],
      "metadata": {
        "id": "u-OR7CNxfoxs"
      }
    },
    {
      "cell_type": "code",
      "source": [
        "df[\"Customer\"].value_counts()\n",
        "ax = df[\"Customer\"].value_counts().head(10).plot(kind = 'pie', title=\"Customer chart\",figsize=(10,6))\n"
      ],
      "metadata": {
        "colab": {
          "base_uri": "https://localhost:8080/",
          "height": 374
        },
        "id": "-e4q2eCvE5DF",
        "outputId": "d65f3d4f-3d71-449a-9bd8-77c7e858b1d6"
      },
      "execution_count": 125,
      "outputs": [
        {
          "output_type": "display_data",
          "data": {
            "text/plain": [
              "<Figure size 720x432 with 1 Axes>"
            ],
            "image/png": "[encoded data removed]"
          },
          "metadata": {}
        }
      ]
    },
    {
      "cell_type": "markdown",
      "source": [
        "Create a bar chart of payload *mass* data categories and their counts"
      ],
      "metadata": {
        "id": "w4rv9BdegQlO"
      }
    },
    {
      "cell_type": "code",
      "source": [
        "\n",
        "ax = df[\"Payload mass\"].value_counts().head(10).plot(kind = 'bar', title=\"Customer chart\",figsize=(10,6))\n"
      ],
      "metadata": {
        "colab": {
          "base_uri": "https://localhost:8080/",
          "height": 431
        },
        "id": "DBtgdCcNNC7r",
        "outputId": "e94e2352-6a58-4c5c-ebcb-93507eca7c05"
      },
      "execution_count": 123,
      "outputs": [
        {
          "output_type": "display_data",
          "data": {
            "text/plain": [
              "<Figure size 720x432 with 1 Axes>"
            ],
            "image/png": "[encoded data removed]"
          },
          "metadata": {}
        }
      ]
    },
    {
      "cell_type": "markdown",
      "source": [
        "Count the frequency of Payload data category"
      ],
      "metadata": {
        "id": "7GnBZgmig9xF"
      }
    },
    {
      "cell_type": "code",
      "source": [
        "df[\"Payload\"].value_counts()"
      ],
      "metadata": {
        "colab": {
          "base_uri": "https://localhost:8080/"
        },
        "id": "1JibcuaoNtmN",
        "outputId": "b5d53d9e-1796-4ef6-aa17-5ae6659be0f9"
      },
      "execution_count": 114,
      "outputs": [
        {
          "output_type": "execute_result",
          "data": {
            "text/plain": [
              "Starlink              27\n",
              "Iridium NEXT          16\n",
              "GPS III                6\n",
              "Orbcomm-OG2            4\n",
              "Dragon                 3\n",
              "                      ..\n",
              "SpaceX CRS-4           1\n",
              "SpaceX CRS-14          1\n",
              "Crew-1                 1\n",
              "AsiaSat 8              1\n",
              "Crew Dragon Demo-1     1\n",
              "Name: Payload, Length: 79, dtype: int64"
            ]
          },
          "metadata": {},
          "execution_count": 114
        }
      ]
    },
    {
      "cell_type": "markdown",
      "source": [
        "Create a area chart of payload data categories and their counts"
      ],
      "metadata": {
        "id": "nzsho2HNggY9"
      }
    },
    {
      "cell_type": "code",
      "source": [
        "ax = df[\"Payload\"].value_counts().head(10).plot(kind = 'area', title=\"Payload\",figsize=(10,6))\n"
      ],
      "metadata": {
        "colab": {
          "base_uri": "https://localhost:8080/",
          "height": 391
        },
        "id": "n2GZSODSQ_Po",
        "outputId": "54932346-a97b-4be5-c8ed-c38dbd9f7fe6"
      },
      "execution_count": 122,
      "outputs": [
        {
          "output_type": "display_data",
          "data": {
            "text/plain": [
              "<Figure size 720x432 with 1 Axes>"
            ],
            "image/png": "[encoded data removed]"
          },
          "metadata": {}
        }
      ]
    },
    {
      "cell_type": "markdown",
      "source": [
        "Count the frequency of Orbit data category"
      ],
      "metadata": {
        "id": "QbHCgEm3hD0d"
      }
    },
    {
      "cell_type": "code",
      "source": [
        "df[\"Orbit\"].value_counts()"
      ],
      "metadata": {
        "colab": {
          "base_uri": "https://localhost:8080/"
        },
        "id": "X2MUV1CJR_uN",
        "outputId": "0bee94d3-6fca-4471-841c-0c91dd5d38e8"
      },
      "execution_count": 116,
      "outputs": [
        {
          "output_type": "execute_result",
          "data": {
            "text/plain": [
              "LEO            93\n",
              "GTO            63\n",
              "Polar          14\n",
              "SSO            14\n",
              "MEO             6\n",
              "HEO             4\n",
              "Polar orbit     2\n",
              "Sub-orbital     2\n",
              "Name: Orbit, dtype: int64"
            ]
          },
          "metadata": {},
          "execution_count": 116
        }
      ]
    },
    {
      "cell_type": "markdown",
      "source": [
        "Create a line chart of payload mass data categories and their counts"
      ],
      "metadata": {
        "id": "5wdqIVchgolO"
      }
    },
    {
      "cell_type": "code",
      "source": [
        "ax = df[\"Orbit\"].value_counts().head(10).plot(kind = 'line', title=\"Customer chart\",figsize=(10,6))\n"
      ],
      "metadata": {
        "colab": {
          "base_uri": "https://localhost:8080/",
          "height": 391
        },
        "id": "s6miF-xBS8J1",
        "outputId": "eda8b2af-4220-460f-b097-47528d0617f5"
      },
      "execution_count": 117,
      "outputs": [
        {
          "output_type": "display_data",
          "data": {
            "text/plain": [
              "<Figure size 720x432 with 1 Axes>"
            ],
            "image/png": "[encoded data removed]"
          },
          "metadata": {}
        }
      ]
    }
  ]
}